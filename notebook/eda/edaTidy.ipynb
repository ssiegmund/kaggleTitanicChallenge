{
 "nbformat": 4,
 "nbformat_minor": 2,
 "metadata": {
  "language_info": {
   "name": "python",
   "codemirror_mode": {
    "name": "ipython",
    "version": 3
   },
   "version": "3.8.2-final"
  },
  "orig_nbformat": 2,
  "file_extension": ".py",
  "mimetype": "text/x-python",
  "name": "python",
  "npconvert_exporter": "python",
  "pygments_lexer": "ipython3",
  "version": 3,
  "kernelspec": {
   "name": "python38232bit7103072575f14358a1c70d977d3a3f1f",
   "display_name": "Python 3.8.2 32-bit"
  }
 },
 "cells": [
  {
   "cell_type": "code",
   "execution_count": null,
   "metadata": {},
   "outputs": [],
   "source": [
    "import numpy as np # linear algebra\n",
    "import pandas as pd # data processing, CSV file I/O (e.g. pd.read_csv)\n",
    "\n",
    "from sklearn.preprocessing import OneHotEncoder\n",
    "from sklearn.impute import SimpleImputer\n",
    "\n",
    "eda_before = pd.read_csv(\"../../data/raw/train.csv\")\n",
    "eda_tidy = pd.read_csv(\"../../data/raw/train.csv\")"
   ]
  },
  {
   "cell_type": "code",
   "execution_count": null,
   "metadata": {},
   "outputs": [],
   "source": [
    "# drop column 'Names'\n",
    "eda_tidy = eda_tidy.drop('Name', axis=1)"
   ]
  },
  {
   "cell_type": "code",
   "execution_count": null,
   "metadata": {},
   "outputs": [],
   "source": [
    "# convert categorical variable 'Sex' with on-hot encoding\n",
    "object_cols = ['Sex']\n",
    "\n",
    "onehot = OneHotEncoder(handle_unknown='ignore', sparse=False)\n",
    "ohCols = pd.DataFrame(onehot.fit_transform(eda_tidy[object_cols]))\n",
    "ohCols.index = eda_tidy.index\n",
    "eda_tidy = eda_tidy.drop(object_cols, axis=1)\n",
    "eda_tidy = pd.concat([eda_tidy, ohCols], axis=1)\n",
    "\n",
    "eda_tidy.rename(columns={0: 'Female', 1: 'Male'}, inplace=True)"
   ]
  },
  {
   "cell_type": "code",
   "execution_count": null,
   "metadata": {},
   "outputs": [],
   "source": [
    "# impute missing values for variable 'Age' with extension\n",
    "cols_missing = ['Age']\n",
    "\n",
    "eda_tidy['Age_was_missing'] = eda_tidy[cols_missing].isnull()\n",
    "\n",
    "eda_tidy_copy = eda_tidy.copy()\n",
    "\n",
    "imputer = SimpleImputer()\n",
    "impCols = pd.DataFrame(imputer.fit_transform(eda_tidy[cols_missing]))\n",
    "impCols.index = eda_tidy.index\n",
    "eda_tidy = eda_tidy.drop(cols_missing, axis=1)\n",
    "eda_tidy = pd.concat([eda_tidy, impCols], axis=1)\n",
    "\n",
    "eda_tidy.rename(columns={0: 'Age'}, inplace=True)"
   ]
  },
  {
   "cell_type": "code",
   "execution_count": null,
   "metadata": {},
   "outputs": [],
   "source": [
    "# drop column 'Ticket'\n",
    "eda_tidy = eda_tidy.drop('Ticket', axis=1)"
   ]
  },
  {
   "cell_type": "code",
   "execution_count": null,
   "metadata": {},
   "outputs": [],
   "source": [
    "# drop column 'Cabin'\n",
    "eda_tidy = eda_tidy.drop('Cabin', axis=1)"
   ]
  },
  {
   "cell_type": "code",
   "execution_count": null,
   "metadata": {},
   "outputs": [],
   "source": [
    "# remove two rows with NaN\n",
    "eda_tidy = eda_tidy.drop([61, 829])\n",
    "\n",
    "# convert categorical variable 'Embarked' with on-hot encoding\n",
    "object_cols = ['Embarked']\n",
    "\n",
    "onehot = OneHotEncoder(handle_unknown='ignore', sparse=False)\n",
    "ohCols = pd.DataFrame(onehot.fit_transform(eda_tidy[object_cols]))\n",
    "ohCols.index = eda_tidy.index\n",
    "eda_tidy = eda_tidy.drop(object_cols, axis=1)\n",
    "eda_tidy = pd.concat([eda_tidy, ohCols], axis=1)\n",
    "\n",
    "eda_tidy.rename(columns={0:'C', 1:'Q', 2:'S'}, inplace=True)"
   ]
  },
  {
   "cell_type": "code",
   "execution_count": null,
   "metadata": {},
   "outputs": [],
   "source": [
    "eda_tidy.head()"
   ]
  },
  {
   "cell_type": "code",
   "execution_count": null,
   "metadata": {},
   "outputs": [],
   "source": [
    "eda_before.head()"
   ]
  },
  {
   "cell_type": "code",
   "execution_count": null,
   "metadata": {},
   "outputs": [],
   "source": [
    "eda_tidy.to_csv(\"../../data/processed/eda_allData_tidy.csv\", index = False)"
   ]
  }
 ]
}